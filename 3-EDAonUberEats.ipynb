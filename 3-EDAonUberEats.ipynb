{
 "cells": [
  {
   "cell_type": "code",
   "execution_count": 1,
   "metadata": {},
   "outputs": [],
   "source": [
    "import pandas as pd\n",
    "import numpy as np\n",
    "import seaborn as sns\n",
    "import matplotlib.pyplot as plt\n",
    "import re\n",
    "\n",
    "plt.rcParams[\"figure.figsize\"] = (20,15)"
   ]
  },
  {
   "cell_type": "code",
   "execution_count": 29,
   "metadata": {},
   "outputs": [],
   "source": [
    "df = pd.read_csv(\"cleanedUber.csv\", index_col=0)\n",
    "df.columns = ['Merge', 'Name', 'Delivery', 'Address', 'Food_type', 'Rating',\n",
    "       'Reviews', 'Menu', 'Average_price', 'Dollar_signs', 'Cuisine']"
   ]
  },
  {
   "cell_type": "code",
   "execution_count": 30,
   "metadata": {},
   "outputs": [
    {
     "data": {
      "text/html": [
       "<div>\n",
       "<style scoped>\n",
       "    .dataframe tbody tr th:only-of-type {\n",
       "        vertical-align: middle;\n",
       "    }\n",
       "\n",
       "    .dataframe tbody tr th {\n",
       "        vertical-align: top;\n",
       "    }\n",
       "\n",
       "    .dataframe thead th {\n",
       "        text-align: right;\n",
       "    }\n",
       "</style>\n",
       "<table border=\"1\" class=\"dataframe\">\n",
       "  <thead>\n",
       "    <tr style=\"text-align: right;\">\n",
       "      <th></th>\n",
       "      <th>Merge</th>\n",
       "      <th>Name</th>\n",
       "      <th>Delivery</th>\n",
       "      <th>Address</th>\n",
       "      <th>Food_type</th>\n",
       "      <th>Rating</th>\n",
       "      <th>Reviews</th>\n",
       "      <th>Menu</th>\n",
       "      <th>Average_price</th>\n",
       "      <th>Dollar_signs</th>\n",
       "      <th>Cuisine</th>\n",
       "    </tr>\n",
       "  </thead>\n",
       "  <tbody>\n",
       "    <tr>\n",
       "      <th>0</th>\n",
       "      <td>tamjai yunnan mixian</td>\n",
       "      <td>譚仔雲南米線 tamjai yunnan mixian (利都樓)</td>\n",
       "      <td>19.0</td>\n",
       "      <td>177-191a King'S Road, Fortress Hill, North Poi...</td>\n",
       "      <td>$ • Cantonese\\n • \\nChinese\\n • \\nFast Food</td>\n",
       "      <td>30–40 Min</td>\n",
       "      <td>4.6</td>\n",
       "      <td>['(豬肚) 蜀香肚絲', '米線+一餸', '(過) 過橋米線套餐', '(小土) 湖南土...</td>\n",
       "      <td>34</td>\n",
       "      <td>1.0</td>\n",
       "      <td>['Cantonese', 'Chinese', 'Fast Food']</td>\n",
       "    </tr>\n",
       "    <tr>\n",
       "      <th>1</th>\n",
       "      <td>元祖三上大喜屋</td>\n",
       "      <td>元祖三上大喜屋 (tin hau)</td>\n",
       "      <td>14.0</td>\n",
       "      <td>17 Tsing Fung Street, G/F, Causeway Bay, Hong ...</td>\n",
       "      <td>$$ • Japanese\\n • \\nAllergy friendly\\n • \\nFam...</td>\n",
       "      <td>15–25 Min</td>\n",
       "      <td>4.3</td>\n",
       "      <td>['和風牛肉丼汁飯 Gyu Don', '吉列豬扒咖喱飯 Curry Rice with C...</td>\n",
       "      <td>45</td>\n",
       "      <td>2.0</td>\n",
       "      <td>['Japanese', 'Allergy friendly', 'Family frien...</td>\n",
       "    </tr>\n",
       "    <tr>\n",
       "      <th>2</th>\n",
       "      <td>sour and spicy noodle</td>\n",
       "      <td>傷心酸辣粉 sour and spicy noodle (north point)</td>\n",
       "      <td>19.0</td>\n",
       "      <td>233 Electric Rd, North Point, Hong Kong, Shop ...</td>\n",
       "      <td>$ • Chinese</td>\n",
       "      <td>30–40 Min</td>\n",
       "      <td>4.2</td>\n",
       "      <td>['單人套餐 Set for One', '傷心酸辣粉 Hot and Sour Noodl...</td>\n",
       "      <td>77</td>\n",
       "      <td>1.0</td>\n",
       "      <td>['Chinese']</td>\n",
       "    </tr>\n",
       "    <tr>\n",
       "      <th>3</th>\n",
       "      <td>mcdonald's</td>\n",
       "      <td>mcdonald's 麥當勞 (tung lo wan road)</td>\n",
       "      <td>24.0</td>\n",
       "      <td>11 Tung Lo Wan Rd, Hong Kong, 1A,\\n • \\nMore info</td>\n",
       "      <td>$ • Fast Food</td>\n",
       "      <td>15–25 Min</td>\n",
       "      <td>4.3</td>\n",
       "      <td>['', '', '', '', '', '', '', '', '', '', '', '...</td>\n",
       "      <td>40</td>\n",
       "      <td>1.0</td>\n",
       "      <td>['Fast Food']</td>\n",
       "    </tr>\n",
       "    <tr>\n",
       "      <th>4</th>\n",
       "      <td>pho 5</td>\n",
       "      <td>火五越式牛肉粉專門店 pho 5 (tin hau)</td>\n",
       "      <td>14.0</td>\n",
       "      <td>17 Tsing Fung Street, G/F, Causeway Bay, Hong ...</td>\n",
       "      <td>$$ • Vietnamese\\n • \\nAllergy friendly\\n • \\nF...</td>\n",
       "      <td>20–30 Min</td>\n",
       "      <td>4.3</td>\n",
       "      <td>['凍青檸梳打 Iced Lime Soda', '黃金脆魚皮 Crunchy Fish S...</td>\n",
       "      <td>48</td>\n",
       "      <td>2.0</td>\n",
       "      <td>['Vietnamese', 'Allergy friendly', 'Family fri...</td>\n",
       "    </tr>\n",
       "    <tr>\n",
       "      <th>5</th>\n",
       "      <td>nam kee spring roll noodle co. ltd</td>\n",
       "      <td>南記粉麵 nam kee spring roll noodle co. ltd (cause...</td>\n",
       "      <td>24.0</td>\n",
       "      <td>96 Percival St, Causeway Bay, Hong Kong, Shop ...</td>\n",
       "      <td>$ • Cantonese</td>\n",
       "      <td>20–30 Min</td>\n",
       "      <td>4.5</td>\n",
       "      <td>['辣爽爽肥牛 Spicy Beef Chuck and Blade', '招牌辣豬肉米線 ...</td>\n",
       "      <td>71</td>\n",
       "      <td>1.0</td>\n",
       "      <td>['Cantonese']</td>\n",
       "    </tr>\n",
       "    <tr>\n",
       "      <th>6</th>\n",
       "      <td>subway</td>\n",
       "      <td>subway (fortress hill)</td>\n",
       "      <td>19.0</td>\n",
       "      <td>218 Electric Rd, North Point, Hong Kong, SHOP ...</td>\n",
       "      <td>$$ • Fast Food\\n • \\nWestern\\n • \\nVegan</td>\n",
       "      <td>30–40 Min</td>\n",
       "      <td>4.6</td>\n",
       "      <td>['Roast Chicken and Avocado Subs 燒雞胸肉與牛油果潛艇堡',...</td>\n",
       "      <td>44</td>\n",
       "      <td>2.0</td>\n",
       "      <td>['Fast Food', 'Western', 'Vegan']</td>\n",
       "    </tr>\n",
       "    <tr>\n",
       "      <th>7</th>\n",
       "      <td>中村屋 sushi nakamuraya</td>\n",
       "      <td>中村屋 sushi nakamuraya</td>\n",
       "      <td>NaN</td>\n",
       "      <td>48 Electric Rd, G/F, Golden Court,\\n • \\nMore ...</td>\n",
       "      <td>$ • Japanese\\n • \\nFamily friendly</td>\n",
       "      <td>35–45 Min</td>\n",
       "      <td>4.9</td>\n",
       "      <td>['二色丼 Mixed Sashimi Donburi', '鰻魚壽司 Grilled Ee...</td>\n",
       "      <td>60</td>\n",
       "      <td>1.0</td>\n",
       "      <td>['Japanese', 'Family friendly']</td>\n",
       "    </tr>\n",
       "    <tr>\n",
       "      <th>8</th>\n",
       "      <td>肯德基 kfc</td>\n",
       "      <td>肯德基 kfc (英皇道)</td>\n",
       "      <td>19.0</td>\n",
       "      <td>147-151 King’s Road, Fortress Hill, Hong Kong,...</td>\n",
       "      <td>$ • Fast Food\\n • \\nAmerican</td>\n",
       "      <td>35–45 Min</td>\n",
       "      <td>4.1</td>\n",
       "      <td>['KFC 精選 1 人餐 (A) KFC Privilege Individual Mea...</td>\n",
       "      <td>138</td>\n",
       "      <td>1.0</td>\n",
       "      <td>['Fast Food', 'American']</td>\n",
       "    </tr>\n",
       "    <tr>\n",
       "      <th>9</th>\n",
       "      <td>jiu fen full</td>\n",
       "      <td>九份飽 jiu fen full (蜆殼街 shell street)</td>\n",
       "      <td>19.0</td>\n",
       "      <td>Universal Commercial House, 4 Shell St, Causew...</td>\n",
       "      <td>$$ • Taiwanese\\n • \\nFamily friendly</td>\n",
       "      <td>35–45 Min</td>\n",
       "      <td>4.5</td>\n",
       "      <td>['紅燒牛肉麵 Braised Beef with Noodles', '香酥雞扒滷肉飯 C...</td>\n",
       "      <td>29</td>\n",
       "      <td>2.0</td>\n",
       "      <td>['Taiwanese', 'Family friendly']</td>\n",
       "    </tr>\n",
       "  </tbody>\n",
       "</table>\n",
       "</div>"
      ],
      "text/plain": [
       "                                Merge  \\\n",
       "0                tamjai yunnan mixian   \n",
       "1                             元祖三上大喜屋   \n",
       "2               sour and spicy noodle   \n",
       "3                          mcdonald's   \n",
       "4                               pho 5   \n",
       "5  nam kee spring roll noodle co. ltd   \n",
       "6                              subway   \n",
       "7                中村屋 sushi nakamuraya   \n",
       "8                             肯德基 kfc   \n",
       "9                        jiu fen full   \n",
       "\n",
       "                                                Name  Delivery  \\\n",
       "0                  譚仔雲南米線 tamjai yunnan mixian (利都樓)      19.0   \n",
       "1                                  元祖三上大喜屋 (tin hau)      14.0   \n",
       "2          傷心酸辣粉 sour and spicy noodle (north point)      19.0   \n",
       "3                  mcdonald's 麥當勞 (tung lo wan road)      24.0   \n",
       "4                         火五越式牛肉粉專門店 pho 5 (tin hau)      14.0   \n",
       "5  南記粉麵 nam kee spring roll noodle co. ltd (cause...      24.0   \n",
       "6                             subway (fortress hill)      19.0   \n",
       "7                               中村屋 sushi nakamuraya       NaN   \n",
       "8                                      肯德基 kfc (英皇道)      19.0   \n",
       "9                九份飽 jiu fen full (蜆殼街 shell street)      19.0   \n",
       "\n",
       "                                             Address  \\\n",
       "0  177-191a King'S Road, Fortress Hill, North Poi...   \n",
       "1  17 Tsing Fung Street, G/F, Causeway Bay, Hong ...   \n",
       "2  233 Electric Rd, North Point, Hong Kong, Shop ...   \n",
       "3  11 Tung Lo Wan Rd, Hong Kong, 1A,\\n • \\nMore info   \n",
       "4  17 Tsing Fung Street, G/F, Causeway Bay, Hong ...   \n",
       "5  96 Percival St, Causeway Bay, Hong Kong, Shop ...   \n",
       "6  218 Electric Rd, North Point, Hong Kong, SHOP ...   \n",
       "7  48 Electric Rd, G/F, Golden Court,\\n • \\nMore ...   \n",
       "8  147-151 King’s Road, Fortress Hill, Hong Kong,...   \n",
       "9  Universal Commercial House, 4 Shell St, Causew...   \n",
       "\n",
       "                                           Food_type     Rating Reviews  \\\n",
       "0        $ • Cantonese\\n • \\nChinese\\n • \\nFast Food  30–40 Min     4.6   \n",
       "1  $$ • Japanese\\n • \\nAllergy friendly\\n • \\nFam...  15–25 Min     4.3   \n",
       "2                                        $ • Chinese  30–40 Min     4.2   \n",
       "3                                      $ • Fast Food  15–25 Min     4.3   \n",
       "4  $$ • Vietnamese\\n • \\nAllergy friendly\\n • \\nF...  20–30 Min     4.3   \n",
       "5                                      $ • Cantonese  20–30 Min     4.5   \n",
       "6           $$ • Fast Food\\n • \\nWestern\\n • \\nVegan  30–40 Min     4.6   \n",
       "7                 $ • Japanese\\n • \\nFamily friendly  35–45 Min     4.9   \n",
       "8                       $ • Fast Food\\n • \\nAmerican  35–45 Min     4.1   \n",
       "9               $$ • Taiwanese\\n • \\nFamily friendly  35–45 Min     4.5   \n",
       "\n",
       "                                                Menu  Average_price  \\\n",
       "0  ['(豬肚) 蜀香肚絲', '米線+一餸', '(過) 過橋米線套餐', '(小土) 湖南土...             34   \n",
       "1  ['和風牛肉丼汁飯 Gyu Don', '吉列豬扒咖喱飯 Curry Rice with C...             45   \n",
       "2  ['單人套餐 Set for One', '傷心酸辣粉 Hot and Sour Noodl...             77   \n",
       "3  ['', '', '', '', '', '', '', '', '', '', '', '...             40   \n",
       "4  ['凍青檸梳打 Iced Lime Soda', '黃金脆魚皮 Crunchy Fish S...             48   \n",
       "5  ['辣爽爽肥牛 Spicy Beef Chuck and Blade', '招牌辣豬肉米線 ...             71   \n",
       "6  ['Roast Chicken and Avocado Subs 燒雞胸肉與牛油果潛艇堡',...             44   \n",
       "7  ['二色丼 Mixed Sashimi Donburi', '鰻魚壽司 Grilled Ee...             60   \n",
       "8  ['KFC 精選 1 人餐 (A) KFC Privilege Individual Mea...            138   \n",
       "9  ['紅燒牛肉麵 Braised Beef with Noodles', '香酥雞扒滷肉飯 C...             29   \n",
       "\n",
       "   Dollar_signs                                            Cuisine  \n",
       "0           1.0              ['Cantonese', 'Chinese', 'Fast Food']  \n",
       "1           2.0  ['Japanese', 'Allergy friendly', 'Family frien...  \n",
       "2           1.0                                        ['Chinese']  \n",
       "3           1.0                                      ['Fast Food']  \n",
       "4           2.0  ['Vietnamese', 'Allergy friendly', 'Family fri...  \n",
       "5           1.0                                      ['Cantonese']  \n",
       "6           2.0                  ['Fast Food', 'Western', 'Vegan']  \n",
       "7           1.0                    ['Japanese', 'Family friendly']  \n",
       "8           1.0                          ['Fast Food', 'American']  \n",
       "9           2.0                   ['Taiwanese', 'Family friendly']  "
      ]
     },
     "execution_count": 30,
     "metadata": {},
     "output_type": "execute_result"
    }
   ],
   "source": [
    "df.head(10)"
   ]
  },
  {
   "cell_type": "code",
   "execution_count": 31,
   "metadata": {},
   "outputs": [
    {
     "data": {
      "text/plain": [
       "Index(['Merge', 'Name', 'Delivery', 'Address', 'Food_type', 'Rating',\n",
       "       'Reviews', 'Menu', 'Average_price', 'Dollar_signs', 'Cuisine'],\n",
       "      dtype='object')"
      ]
     },
     "execution_count": 31,
     "metadata": {},
     "output_type": "execute_result"
    }
   ],
   "source": [
    "df.columns"
   ]
  },
  {
   "cell_type": "code",
   "execution_count": 32,
   "metadata": {},
   "outputs": [],
   "source": [
    "plotdf = df[[\"Dollar_signs\",\"Average_price\"]].sort_values(by=\"Dollar_signs\")\n",
    "plotdf = plotdf[2:]"
   ]
  },
  {
   "cell_type": "code",
   "execution_count": 33,
   "metadata": {},
   "outputs": [
    {
     "data": {
      "image/png": "[encoded data removed]",
      "text/plain": [
       "<Figure size 1440x1080 with 1 Axes>"
      ]
     },
     "metadata": {
      "needs_background": "light"
     },
     "output_type": "display_data"
    }
   ],
   "source": [
    "sns.boxplot(data=plotdf, x=\"Dollar_signs\", y=\"Average_price\")\n",
    "\n",
    "plt.xlabel(\"Dollar Signs\",fontsize=24)\n",
    "plt.ylabel(\"Average Price\",fontsize=24)\n",
    "\n",
    "\n",
    "plt.savefig(\"./figures/Dollarsign_vs_AveragePrice\")"
   ]
  },
  {
   "cell_type": "code",
   "execution_count": 34,
   "metadata": {},
   "outputs": [],
   "source": [
    "# sns.boxplot(data=df, x=\"Reviews\", y=\"Ratings\")\n",
    "\n",
    "# plt.xlabel(\"Reviews\",fontsize=24)\n",
    "# plt.ylabel(\"Ratings\",fontsize=24)\n",
    "\n",
    "df.Reviews = df.Reviews.apply(lambda x: re.sub(\"\\(\",\"\",x) if isinstance(x,str) else x)\n",
    "df.Reviews = df.Reviews.apply(lambda x: re.sub(\"\\)\",\"\",x) if isinstance(x,str) else x)\n",
    "df.Reviews = df.Reviews.apply(lambda x: re.sub(\"\\+\",\"\",x) if isinstance(x,str) else x)\n",
    "\n"
   ]
  },
  {
   "cell_type": "code",
   "execution_count": 35,
   "metadata": {},
   "outputs": [],
   "source": [
    "df.Reviews = df.Reviews.apply(lambda x: 0 if isinstance(x,float) else x)"
   ]
  },
  {
   "cell_type": "code",
   "execution_count": 36,
   "metadata": {},
   "outputs": [],
   "source": [
    "df_review = df[df.Reviews != 0]"
   ]
  },
  {
   "cell_type": "code",
   "execution_count": 37,
   "metadata": {},
   "outputs": [
    {
     "name": "stderr",
     "output_type": "stream",
     "text": [
      "C:\\ProgramData\\Anaconda3\\lib\\site-packages\\pandas\\core\\generic.py:5168: SettingWithCopyWarning: \n",
      "A value is trying to be set on a copy of a slice from a DataFrame.\n",
      "Try using .loc[row_indexer,col_indexer] = value instead\n",
      "\n",
      "See the caveats in the documentation: https://pandas.pydata.org/pandas-docs/stable/user_guide/indexing.html#returning-a-view-versus-a-copy\n",
      "  self[name] = value\n"
     ]
    }
   ],
   "source": [
    "df_review.Reviews = df_review.Reviews.apply(lambda x: float(x))"
   ]
  },
  {
   "cell_type": "code",
   "execution_count": null,
   "metadata": {},
   "outputs": [],
   "source": []
  },
  {
   "cell_type": "code",
   "execution_count": 38,
   "metadata": {},
   "outputs": [
    {
     "name": "stderr",
     "output_type": "stream",
     "text": [
      "<ipython-input-38-de7b34554165>:1: SettingWithCopyWarning: \n",
      "A value is trying to be set on a copy of a slice from a DataFrame.\n",
      "Try using .loc[row_indexer,col_indexer] = value instead\n",
      "\n",
      "See the caveats in the documentation: https://pandas.pydata.org/pandas-docs/stable/user_guide/indexing.html#returning-a-view-versus-a-copy\n",
      "  df_review[\"binned\"] = pd.qcut(df_review['Reviews'], q=8)\n"
     ]
    }
   ],
   "source": [
    "df_review[\"binned\"] = pd.qcut(df_review['Reviews'], q=8)"
   ]
  },
  {
   "cell_type": "code",
   "execution_count": 39,
   "metadata": {},
   "outputs": [
    {
     "data": {
      "text/plain": [
       "(2.399, 4.2]     41\n",
       "(4.6, 4.8]       37\n",
       "(4.4, 4.5]       27\n",
       "(4.5, 4.6]       26\n",
       "(13.0, 100.0]    25\n",
       "(4.3, 4.4]       24\n",
       "(4.8, 13.0]      18\n",
       "(4.2, 4.3]       17\n",
       "Name: binned, dtype: int64"
      ]
     },
     "execution_count": 39,
     "metadata": {},
     "output_type": "execute_result"
    }
   ],
   "source": [
    "df_review.binned.value_counts()"
   ]
  },
  {
   "cell_type": "code",
   "execution_count": 40,
   "metadata": {},
   "outputs": [
    {
     "ename": "ValueError",
     "evalue": "Could not interpret input 'Ratings'",
     "output_type": "error",
     "traceback": [
      "\u001b[1;31m---------------------------------------------------------------------------\u001b[0m",
      "\u001b[1;31mValueError\u001b[0m                                Traceback (most recent call last)",
      "\u001b[1;32m<ipython-input-40-2ba5083b0422>\u001b[0m in \u001b[0;36m<module>\u001b[1;34m\u001b[0m\n\u001b[1;32m----> 1\u001b[1;33m \u001b[0msns\u001b[0m\u001b[1;33m.\u001b[0m\u001b[0mboxplot\u001b[0m\u001b[1;33m(\u001b[0m\u001b[0mdata\u001b[0m\u001b[1;33m=\u001b[0m\u001b[0mdf_review\u001b[0m\u001b[1;33m,\u001b[0m \u001b[0mx\u001b[0m\u001b[1;33m=\u001b[0m\u001b[1;34m\"binned\"\u001b[0m\u001b[1;33m,\u001b[0m \u001b[0my\u001b[0m\u001b[1;33m=\u001b[0m\u001b[1;34m\"Ratings\"\u001b[0m\u001b[1;33m)\u001b[0m\u001b[1;33m\u001b[0m\u001b[1;33m\u001b[0m\u001b[0m\n\u001b[0m\u001b[0;32m      2\u001b[0m \u001b[1;33m\u001b[0m\u001b[0m\n\u001b[0;32m      3\u001b[0m \u001b[0mplt\u001b[0m\u001b[1;33m.\u001b[0m\u001b[0mxlabel\u001b[0m\u001b[1;33m(\u001b[0m\u001b[1;34m\"No of Reviews\"\u001b[0m\u001b[1;33m,\u001b[0m\u001b[0mfontsize\u001b[0m\u001b[1;33m=\u001b[0m\u001b[1;36m24\u001b[0m\u001b[1;33m)\u001b[0m\u001b[1;33m\u001b[0m\u001b[1;33m\u001b[0m\u001b[0m\n\u001b[0;32m      4\u001b[0m \u001b[0mplt\u001b[0m\u001b[1;33m.\u001b[0m\u001b[0mylabel\u001b[0m\u001b[1;33m(\u001b[0m\u001b[1;34m\"Ratings\"\u001b[0m\u001b[1;33m,\u001b[0m\u001b[0mfontsize\u001b[0m\u001b[1;33m=\u001b[0m\u001b[1;36m24\u001b[0m\u001b[1;33m)\u001b[0m\u001b[1;33m\u001b[0m\u001b[1;33m\u001b[0m\u001b[0m\n\u001b[0;32m      5\u001b[0m \u001b[1;33m\u001b[0m\u001b[0m\n",
      "\u001b[1;32mC:\\ProgramData\\Anaconda3\\lib\\site-packages\\seaborn\\_decorators.py\u001b[0m in \u001b[0;36minner_f\u001b[1;34m(*args, **kwargs)\u001b[0m\n\u001b[0;32m     44\u001b[0m             )\n\u001b[0;32m     45\u001b[0m         \u001b[0mkwargs\u001b[0m\u001b[1;33m.\u001b[0m\u001b[0mupdate\u001b[0m\u001b[1;33m(\u001b[0m\u001b[1;33m{\u001b[0m\u001b[0mk\u001b[0m\u001b[1;33m:\u001b[0m \u001b[0marg\u001b[0m \u001b[1;32mfor\u001b[0m \u001b[0mk\u001b[0m\u001b[1;33m,\u001b[0m \u001b[0marg\u001b[0m \u001b[1;32min\u001b[0m \u001b[0mzip\u001b[0m\u001b[1;33m(\u001b[0m\u001b[0msig\u001b[0m\u001b[1;33m.\u001b[0m\u001b[0mparameters\u001b[0m\u001b[1;33m,\u001b[0m \u001b[0margs\u001b[0m\u001b[1;33m)\u001b[0m\u001b[1;33m}\u001b[0m\u001b[1;33m)\u001b[0m\u001b[1;33m\u001b[0m\u001b[1;33m\u001b[0m\u001b[0m\n\u001b[1;32m---> 46\u001b[1;33m         \u001b[1;32mreturn\u001b[0m \u001b[0mf\u001b[0m\u001b[1;33m(\u001b[0m\u001b[1;33m**\u001b[0m\u001b[0mkwargs\u001b[0m\u001b[1;33m)\u001b[0m\u001b[1;33m\u001b[0m\u001b[1;33m\u001b[0m\u001b[0m\n\u001b[0m\u001b[0;32m     47\u001b[0m     \u001b[1;32mreturn\u001b[0m \u001b[0minner_f\u001b[0m\u001b[1;33m\u001b[0m\u001b[1;33m\u001b[0m\u001b[0m\n\u001b[0;32m     48\u001b[0m \u001b[1;33m\u001b[0m\u001b[0m\n",
      "\u001b[1;32mC:\\ProgramData\\Anaconda3\\lib\\site-packages\\seaborn\\categorical.py\u001b[0m in \u001b[0;36mboxplot\u001b[1;34m(x, y, hue, data, order, hue_order, orient, color, palette, saturation, width, dodge, fliersize, linewidth, whis, ax, **kwargs)\u001b[0m\n\u001b[0;32m   2228\u001b[0m ):\n\u001b[0;32m   2229\u001b[0m \u001b[1;33m\u001b[0m\u001b[0m\n\u001b[1;32m-> 2230\u001b[1;33m     plotter = _BoxPlotter(x, y, hue, data, order, hue_order,\n\u001b[0m\u001b[0;32m   2231\u001b[0m                           \u001b[0morient\u001b[0m\u001b[1;33m,\u001b[0m \u001b[0mcolor\u001b[0m\u001b[1;33m,\u001b[0m \u001b[0mpalette\u001b[0m\u001b[1;33m,\u001b[0m \u001b[0msaturation\u001b[0m\u001b[1;33m,\u001b[0m\u001b[1;33m\u001b[0m\u001b[1;33m\u001b[0m\u001b[0m\n\u001b[0;32m   2232\u001b[0m                           width, dodge, fliersize, linewidth)\n",
      "\u001b[1;32mC:\\ProgramData\\Anaconda3\\lib\\site-packages\\seaborn\\categorical.py\u001b[0m in \u001b[0;36m__init__\u001b[1;34m(self, x, y, hue, data, order, hue_order, orient, color, palette, saturation, width, dodge, fliersize, linewidth)\u001b[0m\n\u001b[0;32m    404\u001b[0m                  width, dodge, fliersize, linewidth):\n\u001b[0;32m    405\u001b[0m \u001b[1;33m\u001b[0m\u001b[0m\n\u001b[1;32m--> 406\u001b[1;33m         \u001b[0mself\u001b[0m\u001b[1;33m.\u001b[0m\u001b[0mestablish_variables\u001b[0m\u001b[1;33m(\u001b[0m\u001b[0mx\u001b[0m\u001b[1;33m,\u001b[0m \u001b[0my\u001b[0m\u001b[1;33m,\u001b[0m \u001b[0mhue\u001b[0m\u001b[1;33m,\u001b[0m \u001b[0mdata\u001b[0m\u001b[1;33m,\u001b[0m \u001b[0morient\u001b[0m\u001b[1;33m,\u001b[0m \u001b[0morder\u001b[0m\u001b[1;33m,\u001b[0m \u001b[0mhue_order\u001b[0m\u001b[1;33m)\u001b[0m\u001b[1;33m\u001b[0m\u001b[1;33m\u001b[0m\u001b[0m\n\u001b[0m\u001b[0;32m    407\u001b[0m         \u001b[0mself\u001b[0m\u001b[1;33m.\u001b[0m\u001b[0mestablish_colors\u001b[0m\u001b[1;33m(\u001b[0m\u001b[0mcolor\u001b[0m\u001b[1;33m,\u001b[0m \u001b[0mpalette\u001b[0m\u001b[1;33m,\u001b[0m \u001b[0msaturation\u001b[0m\u001b[1;33m)\u001b[0m\u001b[1;33m\u001b[0m\u001b[1;33m\u001b[0m\u001b[0m\n\u001b[0;32m    408\u001b[0m \u001b[1;33m\u001b[0m\u001b[0m\n",
      "\u001b[1;32mC:\\ProgramData\\Anaconda3\\lib\\site-packages\\seaborn\\categorical.py\u001b[0m in \u001b[0;36mestablish_variables\u001b[1;34m(self, x, y, hue, data, orient, order, hue_order, units)\u001b[0m\n\u001b[0;32m    151\u001b[0m                 \u001b[1;32mif\u001b[0m \u001b[0misinstance\u001b[0m\u001b[1;33m(\u001b[0m\u001b[0mvar\u001b[0m\u001b[1;33m,\u001b[0m \u001b[0mstr\u001b[0m\u001b[1;33m)\u001b[0m\u001b[1;33m:\u001b[0m\u001b[1;33m\u001b[0m\u001b[1;33m\u001b[0m\u001b[0m\n\u001b[0;32m    152\u001b[0m                     \u001b[0merr\u001b[0m \u001b[1;33m=\u001b[0m \u001b[1;34m\"Could not interpret input '{}'\"\u001b[0m\u001b[1;33m.\u001b[0m\u001b[0mformat\u001b[0m\u001b[1;33m(\u001b[0m\u001b[0mvar\u001b[0m\u001b[1;33m)\u001b[0m\u001b[1;33m\u001b[0m\u001b[1;33m\u001b[0m\u001b[0m\n\u001b[1;32m--> 153\u001b[1;33m                     \u001b[1;32mraise\u001b[0m \u001b[0mValueError\u001b[0m\u001b[1;33m(\u001b[0m\u001b[0merr\u001b[0m\u001b[1;33m)\u001b[0m\u001b[1;33m\u001b[0m\u001b[1;33m\u001b[0m\u001b[0m\n\u001b[0m\u001b[0;32m    154\u001b[0m \u001b[1;33m\u001b[0m\u001b[0m\n\u001b[0;32m    155\u001b[0m             \u001b[1;31m# Figure out the plotting orientation\u001b[0m\u001b[1;33m\u001b[0m\u001b[1;33m\u001b[0m\u001b[1;33m\u001b[0m\u001b[0m\n",
      "\u001b[1;31mValueError\u001b[0m: Could not interpret input 'Ratings'"
     ]
    }
   ],
   "source": [
    "sns.boxplot(data=df_review, x=\"binned\", y=\"Ratings\")\n",
    "\n",
    "plt.xlabel(\"No of Reviews\",fontsize=24)\n",
    "plt.ylabel(\"Ratings\",fontsize=24)\n",
    "\n",
    "plt.savefig(\"./figures/ReviewCounts_Vs_Ratings\", bbox_inches='tight')"
   ]
  },
  {
   "cell_type": "code",
   "execution_count": null,
   "metadata": {},
   "outputs": [],
   "source": [
    "df_cuisine = df.Cuisine_single.value_counts()[:10]\n",
    "df_cuisine = df_cuisine.reset_index()\n",
    "df_cuisine"
   ]
  },
  {
   "cell_type": "code",
   "execution_count": null,
   "metadata": {},
   "outputs": [],
   "source": [
    "sns.barplot(data=df_cuisine, x=\"index\", y=\"Cuisine_single\")\n",
    "\n",
    "plt.xlabel(\"Cuisine\",fontsize=24)\n",
    "plt.ylabel(\"Counts\",fontsize=24)\n",
    "plt.xticks(fontsize=18, rotation=20)\n",
    "\n",
    "plt.savefig(\"./figures/cuisineCounts\", bbox_inches='tight')"
   ]
  },
  {
   "cell_type": "code",
   "execution_count": null,
   "metadata": {},
   "outputs": [],
   "source": [
    "df.Delivery.value_counts()"
   ]
  },
  {
   "cell_type": "code",
   "execution_count": null,
   "metadata": {},
   "outputs": [],
   "source": [
    "df_del = df.Delivery.value_counts()\n",
    "df_del = df_del.reset_index()\n",
    "df_del"
   ]
  },
  {
   "cell_type": "code",
   "execution_count": null,
   "metadata": {},
   "outputs": [],
   "source": [
    "sns.barplot(data=df_del, x=\"index\", y=\"Delivery\")\n",
    "\n",
    "plt.xlabel(\"Delivery Cost\",fontsize=24)\n",
    "plt.ylabel(\"Counts\",fontsize=24)\n",
    "plt.xticks(fontsize=18, rotation=20)\n",
    "\n",
    "plt.savefig(\"./figures/DeliveryCostCounts\", bbox_inches='tight')"
   ]
  },
  {
   "cell_type": "code",
   "execution_count": null,
   "metadata": {},
   "outputs": [],
   "source": [
    "df[df.Delivery == 29]"
   ]
  },
  {
   "cell_type": "code",
   "execution_count": null,
   "metadata": {},
   "outputs": [],
   "source": [
    "df[df.Address.str.contains(\"wanchai\" or \"Wanchai\")]"
   ]
  },
  {
   "cell_type": "code",
   "execution_count": null,
   "metadata": {},
   "outputs": [],
   "source": []
  }
 ],
 "metadata": {
  "kernelspec": {
   "display_name": "Python 3",
   "language": "python",
   "name": "python3"
  },
  "language_info": {
   "codemirror_mode": {
    "name": "ipython",
    "version": 3
   },
   "file_extension": ".py",
   "mimetype": "text/x-python",
   "name": "python",
   "nbconvert_exporter": "python",
   "pygments_lexer": "ipython3",
   "version": "3.8.5"
  }
 },
 "nbformat": 4,
 "nbformat_minor": 4
}
